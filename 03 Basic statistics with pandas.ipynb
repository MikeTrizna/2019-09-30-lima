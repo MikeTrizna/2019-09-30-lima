{
 "cells": [
  {
   "cell_type": "markdown",
   "metadata": {},
   "source": [
    "# Estadísticas básicas con `pandas`\n",
    "\n",
    "En esta guía aprenderemos a realizar a manejar estadísticamente nuestros datos con métodos que vienen por defecto en en el paquete `pandas`.\n",
    "\n",
    "## Importación de paquete y lectura de datos"
   ]
  },
  {
   "cell_type": "code",
   "execution_count": 1,
   "metadata": {},
   "outputs": [],
   "source": [
    "import pandas as pd"
   ]
  },
  {
   "cell_type": "code",
   "execution_count": 2,
   "metadata": {},
   "outputs": [
    {
     "data": {
      "text/html": [
       "<div>\n",
       "<style scoped>\n",
       "    .dataframe tbody tr th:only-of-type {\n",
       "        vertical-align: middle;\n",
       "    }\n",
       "\n",
       "    .dataframe tbody tr th {\n",
       "        vertical-align: top;\n",
       "    }\n",
       "\n",
       "    .dataframe thead th {\n",
       "        text-align: right;\n",
       "    }\n",
       "</style>\n",
       "<table border=\"1\" class=\"dataframe\">\n",
       "  <thead>\n",
       "    <tr style=\"text-align: right;\">\n",
       "      <th></th>\n",
       "      <th>record_id</th>\n",
       "      <th>month</th>\n",
       "      <th>day</th>\n",
       "      <th>year</th>\n",
       "      <th>plot_id</th>\n",
       "      <th>species_id</th>\n",
       "      <th>sex</th>\n",
       "      <th>hindfoot_length</th>\n",
       "      <th>weight</th>\n",
       "    </tr>\n",
       "  </thead>\n",
       "  <tbody>\n",
       "    <tr>\n",
       "      <td>0</td>\n",
       "      <td>1</td>\n",
       "      <td>7</td>\n",
       "      <td>16</td>\n",
       "      <td>1977</td>\n",
       "      <td>2</td>\n",
       "      <td>NL</td>\n",
       "      <td>M</td>\n",
       "      <td>32.0</td>\n",
       "      <td>NaN</td>\n",
       "    </tr>\n",
       "    <tr>\n",
       "      <td>1</td>\n",
       "      <td>2</td>\n",
       "      <td>7</td>\n",
       "      <td>16</td>\n",
       "      <td>1977</td>\n",
       "      <td>3</td>\n",
       "      <td>NL</td>\n",
       "      <td>M</td>\n",
       "      <td>33.0</td>\n",
       "      <td>NaN</td>\n",
       "    </tr>\n",
       "    <tr>\n",
       "      <td>2</td>\n",
       "      <td>3</td>\n",
       "      <td>7</td>\n",
       "      <td>16</td>\n",
       "      <td>1977</td>\n",
       "      <td>2</td>\n",
       "      <td>DM</td>\n",
       "      <td>F</td>\n",
       "      <td>37.0</td>\n",
       "      <td>NaN</td>\n",
       "    </tr>\n",
       "    <tr>\n",
       "      <td>3</td>\n",
       "      <td>4</td>\n",
       "      <td>7</td>\n",
       "      <td>16</td>\n",
       "      <td>1977</td>\n",
       "      <td>7</td>\n",
       "      <td>DM</td>\n",
       "      <td>M</td>\n",
       "      <td>36.0</td>\n",
       "      <td>NaN</td>\n",
       "    </tr>\n",
       "    <tr>\n",
       "      <td>4</td>\n",
       "      <td>5</td>\n",
       "      <td>7</td>\n",
       "      <td>16</td>\n",
       "      <td>1977</td>\n",
       "      <td>3</td>\n",
       "      <td>DM</td>\n",
       "      <td>M</td>\n",
       "      <td>35.0</td>\n",
       "      <td>NaN</td>\n",
       "    </tr>\n",
       "  </tbody>\n",
       "</table>\n",
       "</div>"
      ],
      "text/plain": [
       "   record_id  month  day  year  plot_id species_id sex  hindfoot_length  \\\n",
       "0          1      7   16  1977        2         NL   M             32.0   \n",
       "1          2      7   16  1977        3         NL   M             33.0   \n",
       "2          3      7   16  1977        2         DM   F             37.0   \n",
       "3          4      7   16  1977        7         DM   M             36.0   \n",
       "4          5      7   16  1977        3         DM   M             35.0   \n",
       "\n",
       "   weight  \n",
       "0     NaN  \n",
       "1     NaN  \n",
       "2     NaN  \n",
       "3     NaN  \n",
       "4     NaN  "
      ]
     },
     "execution_count": 2,
     "metadata": {},
     "output_type": "execute_result"
    }
   ],
   "source": [
    "surveys_df = pd.read_csv('surveys.csv')\n",
    "surveys_df.head()"
   ]
  },
  {
   "cell_type": "markdown",
   "metadata": {},
   "source": [
    "## Estadísticas básicas\n",
    "\n",
    "Podemos obtener la media de una columna de nuestra data usando el método `mean()` al final de la linea. Por ejemplo, si queremos saber cuál es el promedio de pesos de todos nuestros datos, usaremos:"
   ]
  },
  {
   "cell_type": "code",
   "execution_count": 3,
   "metadata": {},
   "outputs": [
    {
     "data": {
      "text/plain": [
       "42.672428212991356"
      ]
     },
     "execution_count": 3,
     "metadata": {},
     "output_type": "execute_result"
    }
   ],
   "source": [
    "surveys_df['weight'].mean()"
   ]
  },
  {
   "cell_type": "markdown",
   "metadata": {},
   "source": [
    "Similarmente, para la media usaremos `median()`:"
   ]
  },
  {
   "cell_type": "code",
   "execution_count": 4,
   "metadata": {},
   "outputs": [
    {
     "data": {
      "text/plain": [
       "37.0"
      ]
     },
     "execution_count": 4,
     "metadata": {},
     "output_type": "execute_result"
    }
   ],
   "source": [
    "surveys_df['weight'].median()"
   ]
  },
  {
   "cell_type": "markdown",
   "metadata": {},
   "source": [
    "Si queremos obtener una descripción con estadísticas básicas de esta columna, podemos utilizar el método `decribe()`:"
   ]
  },
  {
   "cell_type": "code",
   "execution_count": 5,
   "metadata": {},
   "outputs": [
    {
     "data": {
      "text/plain": [
       "count    32283.000000\n",
       "mean        42.672428\n",
       "std         36.631259\n",
       "min          4.000000\n",
       "25%         20.000000\n",
       "50%         37.000000\n",
       "75%         48.000000\n",
       "max        280.000000\n",
       "Name: weight, dtype: float64"
      ]
     },
     "execution_count": 5,
     "metadata": {},
     "output_type": "execute_result"
    }
   ],
   "source": [
    "surveys_df['weight'].describe()"
   ]
  },
  {
   "cell_type": "markdown",
   "metadata": {},
   "source": [
    "Estos métodos se acoplan a cualquier clase de filtración previa de datos. Por ejemplo, si queremos saber cuál es la media de los pesos de todas las hembras en nuestros datos, usaremos la siguiente linea:"
   ]
  },
  {
   "cell_type": "code",
   "execution_count": 6,
   "metadata": {},
   "outputs": [
    {
     "data": {
      "text/plain": [
       "42.17055479317781"
      ]
     },
     "execution_count": 6,
     "metadata": {},
     "output_type": "execute_result"
    }
   ],
   "source": [
    "surveys_df[surveys_df['sex'] == 'F']['weight'].mean()"
   ]
  },
  {
   "cell_type": "markdown",
   "metadata": {},
   "source": [
    "Podemos agrupar los datos usando los valores de una columna como factores y obtener métricas por grupo (e.g. promedio, media). Para agrupar, usamos el método `groupby()`. Por ejemplo, si queremos obtener el promedio "
   ]
  },
  {
   "cell_type": "code",
   "execution_count": 7,
   "metadata": {},
   "outputs": [
    {
     "data": {
      "text/plain": [
       "sex\n",
       "F    42.170555\n",
       "M    42.995379\n",
       "Name: weight, dtype: float64"
      ]
     },
     "execution_count": 7,
     "metadata": {},
     "output_type": "execute_result"
    }
   ],
   "source": [
    "surveys_df.groupby('sex')['weight'].mean()"
   ]
  },
  {
   "cell_type": "markdown",
   "metadata": {},
   "source": [
    "De la misma manera, podemos tener el promedio de la longitud del pie trasero (i.e. columna `hindfoot_length`) por especie:"
   ]
  },
  {
   "cell_type": "code",
   "execution_count": 8,
   "metadata": {},
   "outputs": [
    {
     "data": {
      "text/plain": [
       "species_id\n",
       "AB     NaN\n",
       "AH    33.0\n",
       "AS     NaN\n",
       "BA    13.0\n",
       "CB     NaN\n",
       "CM     NaN\n",
       "CQ     NaN\n",
       "CS     NaN\n",
       "CT     NaN\n",
       "CU     NaN\n",
       "CV     NaN\n",
       "DM    36.0\n",
       "DO    36.0\n",
       "DS    50.0\n",
       "DX     NaN\n",
       "NL    32.0\n",
       "OL    21.0\n",
       "OT    20.0\n",
       "OX    19.5\n",
       "PB    26.0\n",
       "PC     NaN\n",
       "PE    20.0\n",
       "PF    16.0\n",
       "PG     NaN\n",
       "PH    26.0\n",
       "PI    22.0\n",
       "PL    20.0\n",
       "PM    20.0\n",
       "PP    22.0\n",
       "PU     NaN\n",
       "PX    19.5\n",
       "RF    17.0\n",
       "RM    17.0\n",
       "RO    15.0\n",
       "RX    18.5\n",
       "SA     NaN\n",
       "SC     NaN\n",
       "SF    27.0\n",
       "SH    29.0\n",
       "SO    25.0\n",
       "SS     NaN\n",
       "ST     NaN\n",
       "SU     NaN\n",
       "UL     NaN\n",
       "UP     NaN\n",
       "UR     NaN\n",
       "US     NaN\n",
       "ZL     NaN\n",
       "Name: hindfoot_length, dtype: float64"
      ]
     },
     "execution_count": 8,
     "metadata": {},
     "output_type": "execute_result"
    }
   ],
   "source": [
    "surveys_df.groupby('species_id')['hindfoot_length'].median()"
   ]
  },
  {
   "cell_type": "markdown",
   "metadata": {},
   "source": [
    "Se puede también obtener agrupaciones usando más de una columna (i.e. agrupaciones multinivel) y ver nuevamente la longitud promedio del pie trasero, pero esta vez, por especie (i.e columna `species_id`) y sexo (i.e. `sex`):"
   ]
  },
  {
   "cell_type": "code",
   "execution_count": 9,
   "metadata": {},
   "outputs": [
    {
     "data": {
      "text/plain": [
       "species_id  sex\n",
       "AH          M       NaN\n",
       "BA          F      13.0\n",
       "            M      13.0\n",
       "DM          F      36.0\n",
       "            M      36.0\n",
       "DO          F      36.0\n",
       "            M      36.0\n",
       "DS          F      50.0\n",
       "            M      50.0\n",
       "NL          F      32.0\n",
       "            M      33.0\n",
       "OL          F      20.0\n",
       "            M      21.0\n",
       "OT          F      20.0\n",
       "            M      20.0\n",
       "OX          F      19.0\n",
       "            M      20.0\n",
       "PB          F      26.0\n",
       "            M      26.0\n",
       "PE          F      20.0\n",
       "            M      20.0\n",
       "PF          F      16.0\n",
       "            M      16.0\n",
       "PH          F      26.0\n",
       "            M      26.0\n",
       "PI          M      22.5\n",
       "PL          F      20.0\n",
       "            M      20.0\n",
       "PM          F      20.0\n",
       "            M      21.0\n",
       "PP          F      22.0\n",
       "            M      22.0\n",
       "PX          F      19.0\n",
       "            M      20.0\n",
       "RF          F      17.0\n",
       "            M      17.0\n",
       "RM          F      17.0\n",
       "            M      17.0\n",
       "RO          F      14.5\n",
       "            M      16.0\n",
       "RX          M      18.5\n",
       "SF          F      27.0\n",
       "            M      26.0\n",
       "SH          F      29.0\n",
       "            M      28.0\n",
       "SO          F      25.0\n",
       "            M      26.0\n",
       "SS          F       NaN\n",
       "            M       NaN\n",
       "Name: hindfoot_length, dtype: float64"
      ]
     },
     "execution_count": 9,
     "metadata": {},
     "output_type": "execute_result"
    }
   ],
   "source": [
    "surveys_df.groupby(['species_id','sex'])['hindfoot_length'].median()"
   ]
  }
 ],
 "metadata": {
  "kernelspec": {
   "display_name": "Python 3",
   "language": "python",
   "name": "python3"
  },
  "language_info": {
   "codemirror_mode": {
    "name": "ipython",
    "version": 3
   },
   "file_extension": ".py",
   "mimetype": "text/x-python",
   "name": "python",
   "nbconvert_exporter": "python",
   "pygments_lexer": "ipython3",
   "version": "3.6.9"
  }
 },
 "nbformat": 4,
 "nbformat_minor": 2
}
